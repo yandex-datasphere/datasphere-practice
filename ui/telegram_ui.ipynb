{
 "cells": [
  {
   "cell_type": "markdown",
   "id": "5d655ec7-329e-4267-917d-ea8e428c17ab",
   "metadata": {},
   "source": [
    "## Интерфейс в виде телеграм-бота\n",
    "\n",
    "Одним из хороших вариантов построения пользовательского интерфейса является использование чат-бота, например, в телеграм. Telegram API устроено таким образом, что позволяет обрабатывать сообщения в режиме поллинга, когда приложение запрашивает у Telegram API новые сообщения, и формирует на них ответы. В этом случае само приложение может находиться за межсетевым экраном, доступ к нему снаружи из интернет не требуется.\n",
    "\n",
    "> Режим поллинга не рекомендуется для долгосрочных и высоконагруженных проектов, но для демонстрации прототипа вполне подойдёт.\n",
    "\n",
    "Для реализации Telegram-бота можно использовать разные библиотеки, мы остановимся на `telebot`:"
   ]
  },
  {
   "cell_type": "code",
   "execution_count": 2,
   "id": "40397f7c-fa58-4575-bfe6-655565cdfebc",
   "metadata": {
    "execution": {
     "iopub.execute_input": "2024-09-05T06:26:47.292821Z",
     "iopub.status.busy": "2024-09-05T06:26:47.291743Z",
     "iopub.status.idle": "2024-09-05T06:26:52.842101Z",
     "shell.execute_reply": "2024-09-05T06:26:52.841133Z",
     "shell.execute_reply.started": "2024-09-05T06:26:47.292786Z"
    },
    "tags": []
   },
   "outputs": [
    {
     "name": "stdout",
     "output_type": "stream",
     "text": [
      "\n",
      "\u001b[1m[\u001b[0m\u001b[34;49mnotice\u001b[0m\u001b[1;39;49m]\u001b[0m\u001b[39;49m A new release of pip is available: \u001b[0m\u001b[31;49m23.0.1\u001b[0m\u001b[39;49m -> \u001b[0m\u001b[32;49m24.2\u001b[0m\n",
      "\u001b[1m[\u001b[0m\u001b[34;49mnotice\u001b[0m\u001b[1;39;49m]\u001b[0m\u001b[39;49m To update, run: \u001b[0m\u001b[32;49mpython3 -m pip install --upgrade pip\u001b[0m\n"
     ]
    }
   ],
   "source": [
    "%pip install -q telebot"
   ]
  },
  {
   "cell_type": "markdown",
   "id": "a655fa62-92f3-4919-b803-7e86ea40a778",
   "metadata": {},
   "source": [
    "Для создания телеграм-бота необходимо использовать специального бота [botfather](http://t.me/botfather), как описано [тут](https://core.telegram.org/bots/features#creating-a-new-bot). Вы вводите команду `/newbot`, и после ответов на несколько простых вопросов получаете **токен** вот такого вида: `7292776300:AAGeoTIVI4pjNTxuCW7UckKcck5G1ZQVFi2d`. \n",
    "\n",
    "Далее мы будем предполагать, что токен содержится в DataSphere-секрете с именем `telegram_token`. \n",
    "\n",
    "В библиотеке `telebot` необходимо описать обработчики событий - это функции, которые будут вызываться в ответ на сообщения определённого вида. Например, для обработки команды `/start` мы описываем функцию с таким декоратором:\n",
    "\n",
    "```python\n",
    "@bot.message_handler(commands=['start'])\n",
    "def start(message):\n",
    "   ...\n",
    "```\n",
    "\n",
    "Мы реализуем бота, который будет классифицировать картинки. Для обработки сообщений, содержащих картинки, также используем соответствующий декоратор:\n",
    "\n",
    "```python\n",
    "@bot.message_handler(content_types=['photo'])\n",
    "def handle_photo(message):\n",
    "    ...\n",
    "```\n",
    "\n",
    "В конце мы запускаем функцию `bot.polling(none_stop=True)`, которая реализует бесконечный цикл обращений к Telegram API и обработки новых входящих сообщений. Запустив ячейчку вы можете перейти в телеграм-бота и начать взаимодействовать с ним."
   ]
  },
  {
   "cell_type": "code",
   "execution_count": 6,
   "id": "eaf272d4-0629-48e8-bade-a9c9714715ad",
   "metadata": {
    "execution": {
     "iopub.execute_input": "2024-09-05T06:44:33.025050Z",
     "iopub.status.busy": "2024-09-05T06:44:33.023970Z",
     "iopub.status.idle": "2024-09-05T06:44:56.170466Z",
     "shell.execute_reply": "2024-09-05T06:44:56.169757Z",
     "shell.execute_reply.started": "2024-09-05T06:44:33.025007Z"
    },
    "tags": []
   },
   "outputs": [
    {
     "name": "stdout",
     "output_type": "stream",
     "text": [
      "1/1 [==============================] - 1s 1s/step\n"
     ]
    }
   ],
   "source": [
    "import telebot\n",
    "from PIL import Image\n",
    "import tensorflow as tf\n",
    "import numpy as np\n",
    "import os,io\n",
    "\n",
    "# API-ключ для доступа к телеграм-боту\n",
    "telegram_token = os.environ['telegram_token']\n",
    "\n",
    "# Создание экземпляра бота\n",
    "bot = telebot.TeleBot(telegram_token)\n",
    "\n",
    "# Загрузка модели классификации изображений\n",
    "model = tf.keras.applications.MobileNetV2(weights=\"imagenet\")\n",
    "\n",
    "# Обработчик команды /start\n",
    "@bot.message_handler(commands=['start'])\n",
    "def start(message):\n",
    "    # Отправляем приветственное сообщение\n",
    "    bot.send_message(message.chat.id,\n",
    "                     'Привет, я бот, классифицирующий изображения. Пошлите мне какую-нибудь картинку!\\n')\n",
    "\n",
    "# Обработчик для всех входящих сообщений\n",
    "@bot.message_handler(func=lambda message: True)\n",
    "def handle_message(message):\n",
    "    bot.send_message(message.chat.id, f\"Привет, вы сказали {message.text}. Но лучше пошлите картинку!\")\n",
    "\n",
    "# Функция для классификации изображений.\n",
    "def classify_image(image):\n",
    "    image = tf.image.resize(image, (224, 224))\n",
    "    image = np.expand_dims(image, axis=0).copy()\n",
    "    image = tf.keras.applications.mobilenet_v2.preprocess_input(image)\n",
    "    preds = model.predict(image)\n",
    "    _,l,c = tf.keras.applications.mobilenet_v2.decode_predictions(preds, top=1)[0][0]\n",
    "    return l,c\n",
    "\n",
    "# Обработчик сообщений с картинками\n",
    "@bot.message_handler(content_types=['photo'])\n",
    "def handle_photo(message):\n",
    "    fileID = message.photo[-1].file_id\n",
    "    file_info = bot.get_file(fileID)\n",
    "    content = bot.download_file(file_info.file_path)\n",
    "    image = Image.open(io.BytesIO(content))\n",
    "    l,c = classify_image(image)\n",
    "    bot.send_message(message.chat.id, f\"Это {l} с вероятностью {c}.\")\n",
    "\n",
    "# Запуск бота\n",
    "bot.polling(none_stop=True)"
   ]
  },
  {
   "cell_type": "markdown",
   "id": "3c9a19fc-0270-4240-9e56-45f5247eeca6",
   "metadata": {},
   "source": [
    "Функция `polling` будет работать до тех пор, пока вы явно не прервёте выполнение ячейки, или DataSphere не сделает это за вас. Пока ячейка работает - вы можете продолжать общаться с ботом.\n",
    "\n",
    "## Выводы\n",
    "\n",
    "Telegram - это удобный способ создать пользовательский интерфейс для демонстрации функциональности вашего приложения или модели машинного обучения заказчикам, поскольку достаточно просто добавить бота себе в мессенджер. При этом возможет обмен текстом, файлами, изображениями и т.д. При этом демонстрационную версию бота можно запустить непосредственно в DataSphee.\n",
    "\n",
    "Впоследствии, для более долгосрочного хостинга бота можно развернуть его на виртуальной машине, и перейти от режима поллинга к использованию WebHooks."
   ]
  }
 ],
 "metadata": {
  "kernelspec": {
   "display_name": "DataSphere Kernel",
   "language": "python",
   "name": "python3"
  },
  "language_info": {
   "codemirror_mode": {
    "name": "ipython",
    "version": 3
   },
   "file_extension": ".py",
   "mimetype": "text/x-python",
   "name": "python",
   "nbconvert_exporter": "python",
   "pygments_lexer": "ipython3",
   "version": "3.10.12"
  }
 },
 "nbformat": 4,
 "nbformat_minor": 5
}
