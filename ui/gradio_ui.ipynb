{
 "cells": [
  {
   "cell_type": "markdown",
   "id": "d32ab457-1dc9-43ed-ad76-5c3b638b07fc",
   "metadata": {},
   "source": [
    "## Построение пользовательского интерфейса с помошью Gradio\n",
    "\n",
    "[Gradio](https://www.gradio.app/) - это очень удобная библиотека, позволяющая строить простейшие пользовательские интерфейсы на Python в несколько строчек кода. Для работы с Gradio достаточно описать набор входных элементов управления (текстовая строка, слайдер и т.д.) и функцию, которая преобразует входные данные в выходные - всё остальное берёт на себя библиотека. Конечно, за такую простоту приходится расплачиваться слабыми возможностями кастомизации, но для создания простейших прототипов со стандартным дизайном Gradio подходит исключительно хорошо.\n",
    "\n",
    "Для начала, установим библиотеку:"
   ]
  },
  {
   "cell_type": "code",
   "execution_count": 1,
   "id": "00825e77-5ec1-4919-b83b-cdbdaad4cb55",
   "metadata": {
    "execution": {
     "iopub.execute_input": "2024-09-05T05:06:26.004926Z",
     "iopub.status.busy": "2024-09-05T05:06:26.003991Z",
     "iopub.status.idle": "2024-09-05T05:06:30.463735Z",
     "shell.execute_reply": "2024-09-05T05:06:30.462873Z",
     "shell.execute_reply.started": "2024-09-05T05:06:26.004873Z"
    },
    "tags": []
   },
   "outputs": [
    {
     "name": "stdout",
     "output_type": "stream",
     "text": [
      "\n",
      "\u001b[1m[\u001b[0m\u001b[34;49mnotice\u001b[0m\u001b[1;39;49m]\u001b[0m\u001b[39;49m A new release of pip is available: \u001b[0m\u001b[31;49m23.0.1\u001b[0m\u001b[39;49m -> \u001b[0m\u001b[32;49m24.2\u001b[0m\n",
      "\u001b[1m[\u001b[0m\u001b[34;49mnotice\u001b[0m\u001b[1;39;49m]\u001b[0m\u001b[39;49m To update, run: \u001b[0m\u001b[32;49mpython3 -m pip install --upgrade pip\u001b[0m\n"
     ]
    }
   ],
   "source": [
    "%pip install -q gradio"
   ]
  },
  {
   "cell_type": "markdown",
   "id": "5d428df6-9ac6-4f57-a176-36e064308b1c",
   "metadata": {},
   "source": [
    "Прежде, чем продолжать выполнение, стоит перезапустить ядро Jupyter Kernel, чтобы библиотека стала видна.\n",
    "\n",
    "## Простейший пример\n",
    "\n",
    "Рассмотрим [стандартный пример](https://www.gradio.app/guides/quickstart) из документации Gradio, реализующий чуть усложнённый пример *Hello, world*. Мы используем простейший вариант авто-генерации интерфейса, в котором при вызове `gr.Interface` мы просто говорим, какие входные элементы управления нам необходимы (в нашем случае - текстовое поле ввода и слайдер), и интерфейс генерируется автоматически. Мы также указываем в параметре `fn=` функцию, которую необходимо вызвать для формирования ответа.\n",
    "\n",
    "Основная проблема с построением пользовательского интрефейса в DataSphere состоит в том, что виртуальная машина, на которой выполняется Jupyter Notebook, недоступна снаружи из интернет, поскольку находится за межсетевым экраном. В то же время Gradio использует веб-интерфейс, и предполагает, что мы должны иметь возможность обратиться к компьютеру, на котором выполняется код, по веб-протоколам.\n",
    "\n",
    "Gradio содержит встроенные средства преодоления таких проблем - возможность поделиться интерфейсом с помощью специального маршрутизатора. В этом случае мы указываем параметр `share=True` в методе `launch`, и в результате создаётся специальный прокси-сайт на серверах Gradio, который транслирует все запросы в наш код, выполняемый внутри DataSphere.\n",
    "\n",
    "Запустите ячейку ниже и убедитесь, что веб-интерфейс станет доступен не только изнутри Jupyter Notebook, но и что вы сможете открыть появившуются ссылку в другом браузере с любого подключенного к интернет компьютера.\n",
    "\n",
    "> ВАЖНО: Ссылка для открытия сайта из интернет будет выглядеть примерно так: `https://28fb53cd9f9d5a37f4.gradio.live`. Ссылка вида `http://127.0.0.1:7860` - это локальная ссылка, используемая в том случае, если вы запускаете проект на локальном компьютере."
   ]
  },
  {
   "cell_type": "code",
   "execution_count": 2,
   "id": "f924e7e2-3ed0-4c43-863c-1466909156a5",
   "metadata": {
    "execution": {
     "iopub.execute_input": "2024-09-05T05:16:16.343958Z",
     "iopub.status.busy": "2024-09-05T05:16:16.342734Z",
     "iopub.status.idle": "2024-09-05T05:16:25.264494Z",
     "shell.execute_reply": "2024-09-05T05:16:25.263560Z",
     "shell.execute_reply.started": "2024-09-05T05:16:16.343902Z"
    },
    "tags": []
   },
   "outputs": [
    {
     "name": "stdout",
     "output_type": "stream",
     "text": [
      "Running on local URL:  http://127.0.0.1:7860\n",
      "Running on public URL: https://59804d1b73d790af6b.gradio.live\n",
      "\n",
      "This share link expires in 72 hours. For free permanent hosting and GPU upgrades, run `gradio deploy` from Terminal to deploy to Spaces (https://huggingface.co/spaces)\n"
     ]
    },
    {
     "data": {
      "text/html": [
       "<div><iframe src=\"https://59804d1b73d790af6b.gradio.live\" width=\"100%\" height=\"500\" allow=\"autoplay; camera; microphone; clipboard-read; clipboard-write;\" frameborder=\"0\" allowfullscreen></iframe></div>"
      ],
      "text/plain": [
       "<ml_kernel._vendor.IPython.core.display.HTML object>"
      ]
     },
     "metadata": {},
     "output_type": "display_data"
    },
    {
     "data": {
      "text/plain": []
     },
     "execution_count": 2,
     "metadata": {},
     "output_type": "execute_result"
    }
   ],
   "source": [
    "import gradio as gr\n",
    "\n",
    "def greet(name, intensity):\n",
    "    return \"Hello, \" + name + \"!\" * int(intensity)\n",
    "\n",
    "demo = gr.Interface(\n",
    "    fn=greet,\n",
    "    inputs=[\"text\", \"slider\"],\n",
    "    outputs=[\"text\"],\n",
    ")\n",
    "\n",
    "demo.launch(share=True)\n"
   ]
  },
  {
   "cell_type": "markdown",
   "id": "519d5cdb-d2a0-4fc3-a4cd-4d245dfe56da",
   "metadata": {},
   "source": [
    "Как написано в предупреждении, такая ссылка будет доступна не более, чем 72 часа; а сам интерфейс будет доступен ещё меньшее время, пока работает виртуальная машина DataSphere. Но для простых демонстраций работоспособности моделей машинного обучения заказчику таких возможностей обычно достаточно.\n",
    "\n",
    "## Классификация изображений \n",
    "\n",
    "В качестве более сложного примера рассмотрим классификацию изображений с помощью предобученной сети. В этом случае используем более сложный, но и более гибкий способ построения интерфейса - с помощью явного указания всех элементов управления, т.н. [блочный способ](https://www.gradio.app/docs/gradio/blockshttps://www.gradio.app/docs/gradio/blocks)."
   ]
  },
  {
   "cell_type": "code",
   "execution_count": 1,
   "id": "ba789ef3-42dc-4211-a8ab-62240048182c",
   "metadata": {
    "execution": {
     "iopub.execute_input": "2024-09-05T06:16:26.384695Z",
     "iopub.status.busy": "2024-09-05T06:16:26.382844Z",
     "iopub.status.idle": "2024-09-05T06:16:35.799833Z",
     "shell.execute_reply": "2024-09-05T06:16:35.798923Z",
     "shell.execute_reply.started": "2024-09-05T06:16:26.384646Z"
    }
   },
   "outputs": [
    {
     "name": "stderr",
     "output_type": "stream",
     "text": [
      "2024-09-05 06:16:29.430242: I tensorflow/core/util/port.cc:110] oneDNN custom operations are on. You may see slightly different numerical results due to floating-point round-off errors from different computation orders. To turn them off, set the environment variable `TF_ENABLE_ONEDNN_OPTS=0`.\n",
      "2024-09-05 06:16:29.498614: I tensorflow/core/platform/cpu_feature_guard.cc:182] This TensorFlow binary is optimized to use available CPU instructions in performance-critical operations.\n",
      "To enable the following instructions: AVX2 AVX512F AVX512_VNNI FMA, in other operations, rebuild TensorFlow with the appropriate compiler flags.\n",
      "2024-09-05 06:16:30.480685: W tensorflow/compiler/tf2tensorrt/utils/py_utils.cc:38] TF-TRT Warning: Could not find TensorRT\n",
      "2024-09-05 06:16:31.605931: E tensorflow/compiler/xla/stream_executor/cuda/cuda_driver.cc:266] failed call to cuInit: CUDA_ERROR_NO_DEVICE: no CUDA-capable device is detected\n"
     ]
    },
    {
     "name": "stdout",
     "output_type": "stream",
     "text": [
      "Running on local URL:  http://127.0.0.1:7860\n",
      "Running on public URL: https://22bbc062636722f376.gradio.live\n",
      "\n",
      "This share link expires in 72 hours. For free permanent hosting and GPU upgrades, run `gradio deploy` from Terminal to deploy to Spaces (https://huggingface.co/spaces)\n"
     ]
    },
    {
     "data": {
      "text/html": [
       "<div><iframe src=\"https://22bbc062636722f376.gradio.live\" width=\"100%\" height=\"500\" allow=\"autoplay; camera; microphone; clipboard-read; clipboard-write;\" frameborder=\"0\" allowfullscreen></iframe></div>"
      ],
      "text/plain": [
       "<ml_kernel._vendor.IPython.core.display.HTML object>"
      ]
     },
     "metadata": {},
     "output_type": "display_data"
    },
    {
     "data": {
      "text/plain": []
     },
     "execution_count": 1,
     "metadata": {},
     "output_type": "execute_result"
    },
    {
     "name": "stdout",
     "output_type": "stream",
     "text": [
      "1/1 [==============================] - 1s 775ms/step\n"
     ]
    }
   ],
   "source": [
    "import gradio as gr\n",
    "import tensorflow as tf\n",
    "import numpy as np\n",
    "\n",
    "# Load a pre-trained model\n",
    "model = tf.keras.applications.MobileNetV2(weights=\"imagenet\")\n",
    "\n",
    "def classify_image(image):\n",
    "    image = tf.image.resize(image, (224, 224))\n",
    "    image = np.expand_dims(image, axis=0).copy()\n",
    "    image = tf.keras.applications.mobilenet_v2.preprocess_input(image)\n",
    "    preds = model.predict(image)\n",
    "    res = tf.keras.applications.mobilenet_v2.decode_predictions(preds, top=3)[0]\n",
    "    return { l : c for _,l,c in res }\n",
    "    \n",
    "with gr.Blocks() as iface:\n",
    "    gr.Markdown(\"## Image Classifier\")\n",
    "    with gr.Row():\n",
    "        inp = gr.Image()\n",
    "        outp = gr.Label()\n",
    "    btn = gr.Button(\"Run\")\n",
    "    btn.click(fn=classify_image, inputs=inp, outputs=outp)\n",
    "    \n",
    "iface.launch(share=True)"
   ]
  },
  {
   "cell_type": "markdown",
   "id": "b7c3e526-dd2c-4c5a-9ed6-203341731b5a",
   "metadata": {},
   "source": [
    "## Выводы\n",
    "\n",
    "Gradio позволяет вам очень быстро создать стандартный пользовательский интерфейс, для демонстрации функциональности вашего приложения или модели машинного обучения заказчикам. Для прототипирования интерфейсов нет нужды создвать отдельные виртуальные машины, всё доступно прямо из среды DataSphere.\n",
    "\n",
    "Впоследствии, для более долгосрочного хостинга интерфейсов можно сравнительно легко перенести код на Gradio на виртуальную машину."
   ]
  }
 ],
 "metadata": {
  "kernelspec": {
   "display_name": "DataSphere Kernel",
   "language": "python",
   "name": "python3"
  },
  "language_info": {
   "codemirror_mode": {
    "name": "ipython",
    "version": 3
   },
   "file_extension": ".py",
   "mimetype": "text/x-python",
   "name": "python",
   "nbconvert_exporter": "python",
   "pygments_lexer": "ipython3",
   "version": "3.10.12"
  }
 },
 "nbformat": 4,
 "nbformat_minor": 5
}
